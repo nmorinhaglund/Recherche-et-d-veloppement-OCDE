{
  "cells": [
    {
      "cell_type": "code",
      "execution_count": null,
      "id": "abc123",
      "metadata": {},
      "outputs": [],
      "source": [
        "# Exemple de script R\n",
        "install.packages('ggplot2')\n",
        "library(ggplot2)\n",
        "ggplot(mtcars, aes(x=mpg, y=hp)) + geom_point()"
      ]
    }
  ],
  "metadata": {},
  "nbformat": 4,
  "nbformat_minor": 2
}
